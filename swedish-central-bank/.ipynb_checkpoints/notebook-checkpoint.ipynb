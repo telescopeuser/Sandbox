{
 "cells": [
  {
   "cell_type": "markdown",
   "metadata": {},
   "source": [
    "# Swedish central bank interest rate and inflation\n",
    "\n",
    "Original link and decription at https://www.kaggle.com/cnygaard/sweden-interest-rate-inflation\n",
    "\n",
    "Inspiration: Question: How does central bank interest rate effect inflation? What are the interest rate inflation rate delays? Verify ROC R^2 inflation/interest rate causation."
   ]
  },
  {
   "cell_type": "code",
   "execution_count": 1,
   "metadata": {
    "collapsed": true
   },
   "outputs": [],
   "source": [
    "import numpy as np\n",
    "import pandas as pd\n",
    "import re\n",
    "import seaborn as sns\n",
    "from sklearn import cross_validation, linear_model, metrics, ensemble\n",
    "### R2 estimation\n",
    "import statsmodels\n",
    "import statsmodels.formula.api as smf\n",
    "import statsmodels.stats.api as sms\n",
    "from statsmodels.graphics.regressionplots import plot_leverage_resid2\n",
    "###\n",
    "%pylab inline\n",
    "\n",
    "pd.options.mode.chained_assignment = None"
   ]
  },
  {
   "cell_type": "markdown",
   "metadata": {},
   "source": [
    "### Load and clear the data"
   ]
  },
  {
   "cell_type": "code",
   "execution_count": 2,
   "metadata": {
    "collapsed": true
   },
   "outputs": [],
   "source": [
    "raw = pd.read_csv('../input/Interestrate and inflation Sweden 1908-2001.csv')\n",
    "raw.head()"
   ]
  },
  {
   "cell_type": "code",
   "execution_count": 3,
   "metadata": {
    "collapsed": true
   },
   "outputs": [],
   "source": [
    "raw.info()"
   ]
  },
  {
   "cell_type": "code",
   "execution_count": 4,
   "metadata": {
    "collapsed": true
   },
   "outputs": [],
   "source": [
    "# let's drop all NA\n",
    "data = raw.dropna()\n",
    "# price level uses comma to separate thousands, let's fix that\n",
    "data['Price level'] = data['Price level'].apply(lambda x: re.sub(',', '', x))\n",
    "\n",
    "cols = ['Period', 'Central bank interest rate diskonto average', 'Price level']\n",
    "for col in cols:\n",
    "    data[col] = pd.to_numeric(data[col], errors='coerce')\n",
    "    \n",
    "data.info()"
   ]
  },
  {
   "cell_type": "code",
   "execution_count": 5,
   "metadata": {
    "collapsed": true
   },
   "outputs": [],
   "source": [
    "# plot period/interest rate\n",
    "sns.pairplot(data)"
   ]
  },
  {
   "cell_type": "code",
   "execution_count": 6,
   "metadata": {
    "collapsed": true
   },
   "outputs": [],
   "source": [
    "data.corr(method='pearson')"
   ]
  },
  {
   "cell_type": "code",
   "execution_count": 7,
   "metadata": {
    "collapsed": true
   },
   "outputs": [],
   "source": [
    "data.corr(method='spearman')"
   ]
  },
  {
   "cell_type": "markdown",
   "metadata": {},
   "source": [
    "## Trivia model"
   ]
  },
  {
   "cell_type": "code",
   "execution_count": 8,
   "metadata": {
    "collapsed": true
   },
   "outputs": [],
   "source": [
    "def time_series_cv(estimator, X, y, folds=5, metrics_f=metrics.mean_squared_error):\n",
    "    '''\n",
    "    Performs cross validation on ESTIMATOR and the data (X, y) using\n",
    "    forward chaining.\n",
    "    The score is the result of metrics_f(prediction, train_part_y)\n",
    "    Here is the example of the data split to 6 folds\n",
    "    for list [1 2 3 4 5 6]:\n",
    "    TRAIN | TEST\n",
    "    [1] | [2]\n",
    "    [1 2] | [3]\n",
    "    [1 2 3] | [4]\n",
    "    [1 2 3 4] | [5]\n",
    "    [1 2 3 4 5] | [6]\n",
    "    '''\n",
    "    assert X.shape[0] == y.shape[0], \"Features and targets of different sizes {} != {}\".format(\\\n",
    "    X.shape[0], y.shape[0]\n",
    "    )\n",
    "\n",
    "    results = []\n",
    "    fold_size = int(np.ceil(X.shape[0] / folds))\n",
    "\n",
    "    for i in range(1, folds):\n",
    "        split = i*fold_size\n",
    "        trainX, trainY = X[:split], y[:split]\n",
    "        testX, testY = X[split:], y[split:]\n",
    "        estimator.fit(trainX, trainY)\n",
    "        predictions = estimator.predict(testX)\n",
    "        results.append(metrics_f(predictions, testY))\n",
    "\n",
    "    return np.array(results)"
   ]
  },
  {
   "cell_type": "code",
   "execution_count": 9,
   "metadata": {
    "collapsed": true
   },
   "outputs": [],
   "source": [
    "# formally, inflation <--> int.rate dependency is kind of a time series, so we have to use \n",
    "# \"time-series\" version of CV\n",
    "regressor = linear_model.LinearRegression(fit_intercept=True)\n",
    "report = time_series_cv(regressor, data[['Central bank interest rate diskonto average']],\n",
    "                                                     data[['Inflation']], folds=5, metrics_f=metrics.mean_absolute_error)\n",
    "print(report)\n",
    "print('mean={}; std={}'.format(np.mean(report), np.std(report)))\n",
    "data['Inflation'].plot(kind='hist', title='Inflation hist')"
   ]
  },
  {
   "cell_type": "code",
   "execution_count": 10,
   "metadata": {
    "collapsed": true
   },
   "outputs": [],
   "source": [
    "regressor.fit(data[['Central bank interest rate diskonto average']],\n",
    "              data[['Inflation']])\n",
    "print(regressor.coef_, regressor.intercept_)\n",
    "plt.plot(data['Central bank interest rate diskonto average'],\n",
    "         data['Inflation'], '*', label='original points')\n",
    "w0, w1 = regressor.intercept_[0], regressor.coef_[0][0]\n",
    "x = np.arange(0, 12, 0.2)\n",
    "plt.plot(x, w0 + w1 * x, label='predicted curve')\n",
    "plt.legend(loc=2)"
   ]
  },
  {
   "cell_type": "markdown",
   "metadata": {},
   "source": [
    "## R-squared estimation"
   ]
  },
  {
   "cell_type": "code",
   "execution_count": 11,
   "metadata": {
    "collapsed": true
   },
   "outputs": [],
   "source": [
    "data.rename(columns={'Central bank interest rate diskonto average': 'Interest'}, inplace=True)\n",
    "data.head()"
   ]
  },
  {
   "cell_type": "code",
   "execution_count": 12,
   "metadata": {
    "collapsed": true
   },
   "outputs": [],
   "source": [
    "formula = 'Inflation ~ Interest'\n",
    "model = smf.ols(formula, data=data)\n",
    "fitted = model.fit()\n",
    "\n",
    "print(fitted.summary())"
   ]
  },
  {
   "cell_type": "code",
   "execution_count": 13,
   "metadata": {
    "collapsed": true
   },
   "outputs": [],
   "source": [
    "print('Breusch-Pagan test: p=%f' % sms.het_breushpagan(fitted.resid, fitted.model.exog)[1])"
   ]
  },
  {
   "cell_type": "markdown",
   "metadata": {},
   "source": [
    "The error seems to be homoscedastic. The significance calculated correctly, but the estimation may be biased"
   ]
  },
  {
   "cell_type": "code",
   "execution_count": 14,
   "metadata": {
    "collapsed": true
   },
   "outputs": [],
   "source": []
  }
 ],
 "metadata": {
  "kernelspec": {
   "display_name": "Python 2",
   "language": "python",
   "name": "python2"
  },
  "language_info": {
   "codemirror_mode": {
    "name": "ipython",
    "version": 2
   },
   "file_extension": ".py",
   "mimetype": "text/x-python",
   "name": "python",
   "nbconvert_exporter": "python",
   "pygments_lexer": "ipython2",
   "version": "2.7.12"
  }
 },
 "nbformat": 4,
 "nbformat_minor": 0
}
