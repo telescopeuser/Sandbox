{
 "cells": [
  {
   "cell_type": "markdown",
   "metadata": {},
   "source": [
    "# Swedish central bank interest rate and inflation\n",
    "\n",
    "Original link and decription at https://www.kaggle.com/cnygaard/sweden-interest-rate-inflation\n",
    "\n",
    "Inspiration: Question: How does central bank interest rate effect inflation? What are the interest rate inflation rate delays? Verify ROC R^2 inflation/interest rate causation."
   ]
  },
  {
   "cell_type": "code",
   "execution_count": 2,
   "metadata": {
    "collapsed": false
   },
   "outputs": [
    {
     "name": "stdout",
     "output_type": "stream",
     "text": [
      "Populating the interactive namespace from numpy and matplotlib\n"
     ]
    }
   ],
   "source": [
    "import numpy as np\n",
    "import pandas as pd\n",
    "import re\n",
    "import seaborn as sns\n",
    "from sklearn import cross_validation, linear_model, metrics, ensemble\n",
    "### R2 estimation\n",
    "import statsmodels\n",
    "import statsmodels.formula.api as smf\n",
    "import statsmodels.stats.api as sms\n",
    "from statsmodels.graphics.regressionplots import plot_leverage_resid2\n",
    "###\n",
    "%pylab inline\n",
    "\n",
    "pd.options.mode.chained_assignment = None"
   ]
  },
  {
   "cell_type": "markdown",
   "metadata": {},
   "source": [
    "### Load and clear the data"
   ]
  },
  {
   "cell_type": "code",
   "execution_count": 4,
   "metadata": {
    "collapsed": false
   },
   "outputs": [
    {
     "data": {
      "text/html": [
       "<div>\n",
       "<table border=\"1\" class=\"dataframe\">\n",
       "  <thead>\n",
       "    <tr style=\"text-align: right;\">\n",
       "      <th></th>\n",
       "      <th>Period</th>\n",
       "      <th>Central bank interest rate diskonto average</th>\n",
       "      <th>Inflation</th>\n",
       "      <th>Price level</th>\n",
       "    </tr>\n",
       "  </thead>\n",
       "  <tbody>\n",
       "    <tr>\n",
       "      <th>0</th>\n",
       "      <td>1908</td>\n",
       "      <td>5.877</td>\n",
       "      <td>1.5</td>\n",
       "      <td>95</td>\n",
       "    </tr>\n",
       "    <tr>\n",
       "      <th>1</th>\n",
       "      <td>1909</td>\n",
       "      <td>4.6809</td>\n",
       "      <td>-1.0</td>\n",
       "      <td>94</td>\n",
       "    </tr>\n",
       "    <tr>\n",
       "      <th>2</th>\n",
       "      <td>1910</td>\n",
       "      <td>4.624</td>\n",
       "      <td>0.0</td>\n",
       "      <td>94</td>\n",
       "    </tr>\n",
       "    <tr>\n",
       "      <th>3</th>\n",
       "      <td>1911</td>\n",
       "      <td>4.5625</td>\n",
       "      <td>3.0</td>\n",
       "      <td>97</td>\n",
       "    </tr>\n",
       "    <tr>\n",
       "      <th>4</th>\n",
       "      <td>1912</td>\n",
       "      <td>4.7969</td>\n",
       "      <td>2.1</td>\n",
       "      <td>99</td>\n",
       "    </tr>\n",
       "  </tbody>\n",
       "</table>\n",
       "</div>"
      ],
      "text/plain": [
       "  Period Central bank interest rate diskonto average  Inflation Price level\n",
       "0   1908                                       5.877        1.5          95\n",
       "1   1909                                      4.6809       -1.0          94\n",
       "2   1910                                       4.624        0.0          94\n",
       "3   1911                                      4.5625        3.0          97\n",
       "4   1912                                      4.7969        2.1          99"
      ]
     },
     "execution_count": 4,
     "metadata": {},
     "output_type": "execute_result"
    }
   ],
   "source": [
    "# raw = pd.read_csv('../input/Interestrate and inflation Sweden 1908-2001.csv')\n",
    "raw = pd.read_csv('./input/Interestrate and inflation Sweden 1908-2001.csv')\n",
    "raw.head()"
   ]
  },
  {
   "cell_type": "code",
   "execution_count": 5,
   "metadata": {
    "collapsed": false
   },
   "outputs": [
    {
     "name": "stdout",
     "output_type": "stream",
     "text": [
      "<class 'pandas.core.frame.DataFrame'>\n",
      "RangeIndex: 109 entries, 0 to 108\n",
      "Data columns (total 4 columns):\n",
      "Period                                         102 non-null object\n",
      "Central bank interest rate diskonto average    97 non-null object\n",
      "Inflation                                      94 non-null float64\n",
      "Price level                                    94 non-null object\n",
      "dtypes: float64(1), object(3)\n",
      "memory usage: 3.5+ KB\n"
     ]
    }
   ],
   "source": [
    "raw.info()"
   ]
  },
  {
   "cell_type": "code",
   "execution_count": 6,
   "metadata": {
    "collapsed": false
   },
   "outputs": [
    {
     "name": "stdout",
     "output_type": "stream",
     "text": [
      "<class 'pandas.core.frame.DataFrame'>\n",
      "Int64Index: 94 entries, 0 to 93\n",
      "Data columns (total 4 columns):\n",
      "Period                                         94 non-null int64\n",
      "Central bank interest rate diskonto average    94 non-null float64\n",
      "Inflation                                      94 non-null float64\n",
      "Price level                                    94 non-null int64\n",
      "dtypes: float64(2), int64(2)\n",
      "memory usage: 3.7 KB\n"
     ]
    }
   ],
   "source": [
    "# let's drop all NA\n",
    "data = raw.dropna()\n",
    "# price level uses comma to separate thousands, let's fix that\n",
    "data['Price level'] = data['Price level'].apply(lambda x: re.sub(',', '', x))\n",
    "\n",
    "cols = ['Period', 'Central bank interest rate diskonto average', 'Price level']\n",
    "for col in cols:\n",
    "    data[col] = pd.to_numeric(data[col], errors='coerce')\n",
    "    \n",
    "data.info()"
   ]
  },
  {
   "cell_type": "code",
   "execution_count": 7,
   "metadata": {
    "collapsed": false
   },
   "outputs": [
    {
     "data": {
      "text/plain": [
       "<seaborn.axisgrid.PairGrid at 0x7f8c8b977b90>"
      ]
     },
     "execution_count": 7,
     "metadata": {},
     "output_type": "execute_result"
    },
    {
     "data": {
      "image/png": "[encoded data removed]",
      "text/plain": [
       "<matplotlib.figure.Figure at 0x7f8c8b977f50>"
      ]
     },
     "metadata": {},
     "output_type": "display_data"
    }
   ],
   "source": [
    "# plot period/interest rate\n",
    "sns.pairplot(data)"
   ]
  },
  {
   "cell_type": "code",
   "execution_count": 8,
   "metadata": {
    "collapsed": false
   },
   "outputs": [
    {
     "data": {
      "text/html": [
       "<div>\n",
       "<table border=\"1\" class=\"dataframe\">\n",
       "  <thead>\n",
       "    <tr style=\"text-align: right;\">\n",
       "      <th></th>\n",
       "      <th>Period</th>\n",
       "      <th>Central bank interest rate diskonto average</th>\n",
       "      <th>Inflation</th>\n",
       "      <th>Price level</th>\n",
       "    </tr>\n",
       "  </thead>\n",
       "  <tbody>\n",
       "    <tr>\n",
       "      <th>Period</th>\n",
       "      <td>1.000000</td>\n",
       "      <td>0.338278</td>\n",
       "      <td>0.114188</td>\n",
       "      <td>0.822929</td>\n",
       "    </tr>\n",
       "    <tr>\n",
       "      <th>Central bank interest rate diskonto average</th>\n",
       "      <td>0.338278</td>\n",
       "      <td>1.000000</td>\n",
       "      <td>0.324149</td>\n",
       "      <td>0.333004</td>\n",
       "    </tr>\n",
       "    <tr>\n",
       "      <th>Inflation</th>\n",
       "      <td>0.114188</td>\n",
       "      <td>0.324149</td>\n",
       "      <td>1.000000</td>\n",
       "      <td>0.039687</td>\n",
       "    </tr>\n",
       "    <tr>\n",
       "      <th>Price level</th>\n",
       "      <td>0.822929</td>\n",
       "      <td>0.333004</td>\n",
       "      <td>0.039687</td>\n",
       "      <td>1.000000</td>\n",
       "    </tr>\n",
       "  </tbody>\n",
       "</table>\n",
       "</div>"
      ],
      "text/plain": [
       "                                               Period  \\\n",
       "Period                                       1.000000   \n",
       "Central bank interest rate diskonto average  0.338278   \n",
       "Inflation                                    0.114188   \n",
       "Price level                                  0.822929   \n",
       "\n",
       "                                             Central bank interest rate diskonto average  \\\n",
       "Period                                                                          0.338278   \n",
       "Central bank interest rate diskonto average                                     1.000000   \n",
       "Inflation                                                                       0.324149   \n",
       "Price level                                                                     0.333004   \n",
       "\n",
       "                                             Inflation  Price level  \n",
       "Period                                        0.114188     0.822929  \n",
       "Central bank interest rate diskonto average   0.324149     0.333004  \n",
       "Inflation                                     1.000000     0.039687  \n",
       "Price level                                   0.039687     1.000000  "
      ]
     },
     "execution_count": 8,
     "metadata": {},
     "output_type": "execute_result"
    }
   ],
   "source": [
    "data.corr(method='pearson')"
   ]
  },
  {
   "cell_type": "code",
   "execution_count": 9,
   "metadata": {
    "collapsed": false
   },
   "outputs": [
    {
     "data": {
      "text/html": [
       "<div>\n",
       "<table border=\"1\" class=\"dataframe\">\n",
       "  <thead>\n",
       "    <tr style=\"text-align: right;\">\n",
       "      <th></th>\n",
       "      <th>Period</th>\n",
       "      <th>Central bank interest rate diskonto average</th>\n",
       "      <th>Inflation</th>\n",
       "      <th>Price level</th>\n",
       "    </tr>\n",
       "  </thead>\n",
       "  <tbody>\n",
       "    <tr>\n",
       "      <th>Period</th>\n",
       "      <td>1.000000</td>\n",
       "      <td>0.259408</td>\n",
       "      <td>0.325719</td>\n",
       "      <td>0.963167</td>\n",
       "    </tr>\n",
       "    <tr>\n",
       "      <th>Central bank interest rate diskonto average</th>\n",
       "      <td>0.259408</td>\n",
       "      <td>1.000000</td>\n",
       "      <td>0.485344</td>\n",
       "      <td>0.371190</td>\n",
       "    </tr>\n",
       "    <tr>\n",
       "      <th>Inflation</th>\n",
       "      <td>0.325719</td>\n",
       "      <td>0.485344</td>\n",
       "      <td>1.000000</td>\n",
       "      <td>0.365197</td>\n",
       "    </tr>\n",
       "    <tr>\n",
       "      <th>Price level</th>\n",
       "      <td>0.963167</td>\n",
       "      <td>0.371190</td>\n",
       "      <td>0.365197</td>\n",
       "      <td>1.000000</td>\n",
       "    </tr>\n",
       "  </tbody>\n",
       "</table>\n",
       "</div>"
      ],
      "text/plain": [
       "                                               Period  \\\n",
       "Period                                       1.000000   \n",
       "Central bank interest rate diskonto average  0.259408   \n",
       "Inflation                                    0.325719   \n",
       "Price level                                  0.963167   \n",
       "\n",
       "                                             Central bank interest rate diskonto average  \\\n",
       "Period                                                                          0.259408   \n",
       "Central bank interest rate diskonto average                                     1.000000   \n",
       "Inflation                                                                       0.485344   \n",
       "Price level                                                                     0.371190   \n",
       "\n",
       "                                             Inflation  Price level  \n",
       "Period                                        0.325719     0.963167  \n",
       "Central bank interest rate diskonto average   0.485344     0.371190  \n",
       "Inflation                                     1.000000     0.365197  \n",
       "Price level                                   0.365197     1.000000  "
      ]
     },
     "execution_count": 9,
     "metadata": {},
     "output_type": "execute_result"
    }
   ],
   "source": [
    "data.corr(method='spearman')"
   ]
  },
  {
   "cell_type": "markdown",
   "metadata": {},
   "source": [
    "## Trivia model"
   ]
  },
  {
   "cell_type": "code",
   "execution_count": 10,
   "metadata": {
    "collapsed": true
   },
   "outputs": [],
   "source": [
    "def time_series_cv(estimator, X, y, folds=5, metrics_f=metrics.mean_squared_error):\n",
    "    '''\n",
    "    Performs cross validation on ESTIMATOR and the data (X, y) using\n",
    "    forward chaining.\n",
    "    The score is the result of metrics_f(prediction, train_part_y)\n",
    "    Here is the example of the data split to 6 folds\n",
    "    for list [1 2 3 4 5 6]:\n",
    "    TRAIN | TEST\n",
    "    [1] | [2]\n",
    "    [1 2] | [3]\n",
    "    [1 2 3] | [4]\n",
    "    [1 2 3 4] | [5]\n",
    "    [1 2 3 4 5] | [6]\n",
    "    '''\n",
    "    assert X.shape[0] == y.shape[0], \"Features and targets of different sizes {} != {}\".format(\\\n",
    "    X.shape[0], y.shape[0]\n",
    "    )\n",
    "\n",
    "    results = []\n",
    "    fold_size = int(np.ceil(X.shape[0] / folds))\n",
    "\n",
    "    for i in range(1, folds):\n",
    "        split = i*fold_size\n",
    "        trainX, trainY = X[:split], y[:split]\n",
    "        testX, testY = X[split:], y[split:]\n",
    "        estimator.fit(trainX, trainY)\n",
    "        predictions = estimator.predict(testX)\n",
    "        results.append(metrics_f(predictions, testY))\n",
    "\n",
    "    return np.array(results)"
   ]
  },
  {
   "cell_type": "code",
   "execution_count": 11,
   "metadata": {
    "collapsed": false
   },
   "outputs": [
    {
     "name": "stdout",
     "output_type": "stream",
     "text": [
      "[ 13.86455472   2.67743629   2.08779107   3.12982836]\n",
      "mean=5.43990260866; std=4.87798826727\n"
     ]
    },
    {
     "data": {
      "text/plain": [
       "<matplotlib.axes._subplots.AxesSubplot at 0x7f8c85600910>"
      ]
     },
     "execution_count": 11,
     "metadata": {},
     "output_type": "execute_result"
    },
    {
     "data": {
      "image/png": "[encoded data removed]",
      "text/plain": [
       "<matplotlib.figure.Figure at 0x7f8c855be990>"
      ]
     },
     "metadata": {},
     "output_type": "display_data"
    }
   ],
   "source": [
    "# formally, inflation <--> int.rate dependency is kind of a time series, so we have to use \n",
    "# \"time-series\" version of CV\n",
    "regressor = linear_model.LinearRegression(fit_intercept=True)\n",
    "report = time_series_cv(regressor, data[['Central bank interest rate diskonto average']],\n",
    "                                                     data[['Inflation']], folds=5, metrics_f=metrics.mean_absolute_error)\n",
    "print(report)\n",
    "print('mean={}; std={}'.format(np.mean(report), np.std(report)))\n",
    "data['Inflation'].plot(kind='hist', title='Inflation hist')"
   ]
  },
  {
   "cell_type": "code",
   "execution_count": 12,
   "metadata": {
    "collapsed": false
   },
   "outputs": [
    {
     "name": "stdout",
     "output_type": "stream",
     "text": [
      "(array([[ 1.04909077]]), array([-1.07094365]))\n"
     ]
    },
    {
     "data": {
      "text/plain": [
       "<matplotlib.legend.Legend at 0x7f8c892980d0>"
      ]
     },
     "execution_count": 12,
     "metadata": {},
     "output_type": "execute_result"
    },
    {
     "data": {
      "image/png": "[encoded data removed]",
      "text/plain": [
       "<matplotlib.figure.Figure at 0x7f8c85555d10>"
      ]
     },
     "metadata": {},
     "output_type": "display_data"
    }
   ],
   "source": [
    "regressor.fit(data[['Central bank interest rate diskonto average']],\n",
    "              data[['Inflation']])\n",
    "print(regressor.coef_, regressor.intercept_)\n",
    "plt.plot(data['Central bank interest rate diskonto average'],\n",
    "         data['Inflation'], '*', label='original points')\n",
    "w0, w1 = regressor.intercept_[0], regressor.coef_[0][0]\n",
    "x = np.arange(0, 12, 0.2)\n",
    "plt.plot(x, w0 + w1 * x, label='predicted curve')\n",
    "plt.legend(loc=2)"
   ]
  },
  {
   "cell_type": "markdown",
   "metadata": {},
   "source": [
    "## R-squared estimation"
   ]
  },
  {
   "cell_type": "code",
   "execution_count": 13,
   "metadata": {
    "collapsed": false
   },
   "outputs": [
    {
     "data": {
      "text/html": [
       "<div>\n",
       "<table border=\"1\" class=\"dataframe\">\n",
       "  <thead>\n",
       "    <tr style=\"text-align: right;\">\n",
       "      <th></th>\n",
       "      <th>Period</th>\n",
       "      <th>Interest</th>\n",
       "      <th>Inflation</th>\n",
       "      <th>Price level</th>\n",
       "    </tr>\n",
       "  </thead>\n",
       "  <tbody>\n",
       "    <tr>\n",
       "      <th>0</th>\n",
       "      <td>1908</td>\n",
       "      <td>5.8770</td>\n",
       "      <td>1.5</td>\n",
       "      <td>95</td>\n",
       "    </tr>\n",
       "    <tr>\n",
       "      <th>1</th>\n",
       "      <td>1909</td>\n",
       "      <td>4.6809</td>\n",
       "      <td>-1.0</td>\n",
       "      <td>94</td>\n",
       "    </tr>\n",
       "    <tr>\n",
       "      <th>2</th>\n",
       "      <td>1910</td>\n",
       "      <td>4.6240</td>\n",
       "      <td>0.0</td>\n",
       "      <td>94</td>\n",
       "    </tr>\n",
       "    <tr>\n",
       "      <th>3</th>\n",
       "      <td>1911</td>\n",
       "      <td>4.5625</td>\n",
       "      <td>3.0</td>\n",
       "      <td>97</td>\n",
       "    </tr>\n",
       "    <tr>\n",
       "      <th>4</th>\n",
       "      <td>1912</td>\n",
       "      <td>4.7969</td>\n",
       "      <td>2.1</td>\n",
       "      <td>99</td>\n",
       "    </tr>\n",
       "  </tbody>\n",
       "</table>\n",
       "</div>"
      ],
      "text/plain": [
       "   Period  Interest  Inflation  Price level\n",
       "0    1908    5.8770        1.5           95\n",
       "1    1909    4.6809       -1.0           94\n",
       "2    1910    4.6240        0.0           94\n",
       "3    1911    4.5625        3.0           97\n",
       "4    1912    4.7969        2.1           99"
      ]
     },
     "execution_count": 13,
     "metadata": {},
     "output_type": "execute_result"
    }
   ],
   "source": [
    "data.rename(columns={'Central bank interest rate diskonto average': 'Interest'}, inplace=True)\n",
    "data.head()"
   ]
  },
  {
   "cell_type": "code",
   "execution_count": 14,
   "metadata": {
    "collapsed": false
   },
   "outputs": [
    {
     "name": "stdout",
     "output_type": "stream",
     "text": [
      "                            OLS Regression Results                            \n",
      "==============================================================================\n",
      "Dep. Variable:              Inflation   R-squared:                       0.105\n",
      "Model:                            OLS   Adj. R-squared:                  0.095\n",
      "Method:                 Least Squares   F-statistic:                     10.80\n",
      "Date:                Mon, 26 Sep 2016   Prob (F-statistic):            0.00144\n",
      "Time:                        14:01:45   Log-Likelihood:                -316.39\n",
      "No. Observations:                  94   AIC:                             636.8\n",
      "Df Residuals:                      92   BIC:                             641.9\n",
      "Df Model:                           1                                         \n",
      "Covariance Type:            nonrobust                                         \n",
      "==============================================================================\n",
      "                 coef    std err          t      P>|t|      [95.0% Conf. Int.]\n",
      "------------------------------------------------------------------------------\n",
      "Intercept     -1.0709      1.789     -0.599      0.551        -4.624     2.483\n",
      "Interest       1.0491      0.319      3.287      0.001         0.415     1.683\n",
      "==============================================================================\n",
      "Omnibus:                       65.101   Durbin-Watson:                   0.767\n",
      "Prob(Omnibus):                  0.000   Jarque-Bera (JB):              715.582\n",
      "Skew:                           1.856   Prob(JB):                    4.10e-156\n",
      "Kurtosis:                      15.997   Cond. No.                         14.1\n",
      "==============================================================================\n",
      "\n",
      "Warnings:\n",
      "[1] Standard Errors assume that the covariance matrix of the errors is correctly specified.\n"
     ]
    }
   ],
   "source": [
    "formula = 'Inflation ~ Interest'\n",
    "model = smf.ols(formula, data=data)\n",
    "fitted = model.fit()\n",
    "\n",
    "print(fitted.summary())"
   ]
  },
  {
   "cell_type": "code",
   "execution_count": 15,
   "metadata": {
    "collapsed": false
   },
   "outputs": [
    {
     "name": "stdout",
     "output_type": "stream",
     "text": [
      "Breusch-Pagan test: p=0.452018\n"
     ]
    }
   ],
   "source": [
    "print('Breusch-Pagan test: p=%f' % sms.het_breushpagan(fitted.resid, fitted.model.exog)[1])"
   ]
  },
  {
   "cell_type": "markdown",
   "metadata": {},
   "source": [
    "The error seems to be homoscedastic. The significance calculated correctly, but the estimation may be biased"
   ]
  },
  {
   "cell_type": "code",
   "execution_count": 14,
   "metadata": {
    "collapsed": true
   },
   "outputs": [],
   "source": []
  }
 ],
 "metadata": {
  "kernelspec": {
   "display_name": "Python 2",
   "language": "python",
   "name": "python2"
  },
  "language_info": {
   "codemirror_mode": {
    "name": "ipython",
    "version": 2
   },
   "file_extension": ".py",
   "mimetype": "text/x-python",
   "name": "python",
   "nbconvert_exporter": "python",
   "pygments_lexer": "ipython2",
   "version": "2.7.12"
  }
 },
 "nbformat": 4,
 "nbformat_minor": 0
}
